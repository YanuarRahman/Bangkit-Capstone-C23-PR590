{
  "cells": [
    {
      "cell_type": "code",
      "execution_count": null,
      "metadata": {
        "id": "4u7ZdzceAgpW"
      },
      "outputs": [],
      "source": [
        "! chmod 600 /content/kaggle.json"
      ]
    },
    {
      "cell_type": "code",
      "execution_count": null,
      "metadata": {
        "colab": {
          "base_uri": "https://localhost:8080/"
        },
        "id": "FKf_0SzlArfc",
        "outputId": "d83b33bd-0e5a-4226-ac8a-d487c4e554ad"
      },
      "outputs": [
        {
          "name": "stdout",
          "output_type": "stream",
          "text": [
            "Downloading face-recognition-test-on-1027.zip to /content\n",
            "100% 639M/641M [00:39<00:00, 15.6MB/s]\n",
            "100% 641M/641M [00:39<00:00, 17.2MB/s]\n"
          ]
        }
      ],
      "source": [
        "! KAGGLE_CONFIG_DIR=/content/ kaggle datasets download -d waynewu5254/face-recognition-test-on-1027"
      ]
    },
    {
      "cell_type": "code",
      "execution_count": null,
      "metadata": {
        "id": "Pp99vhXICWBp"
      },
      "outputs": [],
      "source": [
        "import zipfile\n",
        "import os\n",
        "zip_file = zipfile.ZipFile('/content/face-recognition-test-on-1027.zip')\n",
        "zip_file.extractall()\n",
        "\n",
        "data_dir=\"/content/dataset\""
      ]
    },
    {
      "cell_type": "code",
      "execution_count": null,
      "metadata": {
        "colab": {
          "base_uri": "https://localhost:8080/"
        },
        "id": "4Y7IGdf6E7ZV",
        "outputId": "5e8ba2db-da16-4293-8d0a-6b464c06dd14"
      },
      "outputs": [
        {
          "data": {
            "text/plain": [
              "['Courteney_Cox',\n",
              " 'David_Schwimmer',\n",
              " 'bhuvan_bam',\n",
              " 'Kunal_Nayya',\n",
              " 'pewdiepie',\n",
              " 'dhoni',\n",
              " 'Johnny_Galeck',\n",
              " 'angelina_jolie',\n",
              " 'manoj_bajpayee',\n",
              " 'hardik_pandya',\n",
              " 'messi',\n",
              " 'Lisa_Kudrow',\n",
              " 'Matt_LeBlanc',\n",
              " 'scarlett_johansson',\n",
              " 'ROHIT_SHARMA',\n",
              " 'brad_pitt',\n",
              " 'ronaldo',\n",
              " 'Pankaj_Tripathi',\n",
              " 'arnold_schwarzenegger',\n",
              " 'Simon_Helberg',\n",
              " 'Matthew_Perry',\n",
              " 'aishwarya_rai',\n",
              " 'mohamed_ali',\n",
              " 'sylvester_stallone',\n",
              " 'Jennifer_Aniston',\n",
              " 'Jim_Parsons',\n",
              " 'virat_kohli',\n",
              " 'suresh_raina',\n",
              " 'random_person',\n",
              " 'Sachin_Tendulka']"
            ]
          },
          "execution_count": 4,
          "metadata": {},
          "output_type": "execute_result"
        }
      ],
      "source": [
        "os.listdir(data_dir)"
      ]
    },
    {
      "cell_type": "code",
      "execution_count": null,
      "metadata": {
        "colab": {
          "base_uri": "https://localhost:8080/"
        },
        "id": "Gs-nD32PI0Ek",
        "outputId": "2aff3b48-dd58-48d2-c013-a976d2e3d62c"
      },
      "outputs": [
        {
          "name": "stdout",
          "output_type": "stream",
          "text": [
            "Looking in indexes: https://pypi.org/simple, https://us-python.pkg.dev/colab-wheels/public/simple/\n",
            "Collecting git+https://github.com/rcmalli/keras-vggface.git\n",
            "  Cloning https://github.com/rcmalli/keras-vggface.git to /tmp/pip-req-build-3rausgcw\n",
            "  Running command git clone --filter=blob:none --quiet https://github.com/rcmalli/keras-vggface.git /tmp/pip-req-build-3rausgcw\n",
            "  Resolved https://github.com/rcmalli/keras-vggface.git to commit bee35376e76e35d00aeec503f2f242611a97b38a\n",
            "  Preparing metadata (setup.py) ... \u001b[?25l\u001b[?25hdone\n",
            "Requirement already satisfied: numpy>=1.9.1 in /usr/local/lib/python3.10/dist-packages (from keras-vggface==0.6) (1.22.4)\n",
            "Requirement already satisfied: scipy>=0.14 in /usr/local/lib/python3.10/dist-packages (from keras-vggface==0.6) (1.10.1)\n",
            "Requirement already satisfied: h5py in /usr/local/lib/python3.10/dist-packages (from keras-vggface==0.6) (3.8.0)\n",
            "Requirement already satisfied: pillow in /usr/local/lib/python3.10/dist-packages (from keras-vggface==0.6) (8.4.0)\n",
            "Requirement already satisfied: keras in /usr/local/lib/python3.10/dist-packages (from keras-vggface==0.6) (2.12.0)\n",
            "Requirement already satisfied: six>=1.9.0 in /usr/local/lib/python3.10/dist-packages (from keras-vggface==0.6) (1.16.0)\n",
            "Requirement already satisfied: pyyaml in /usr/local/lib/python3.10/dist-packages (from keras-vggface==0.6) (6.0)\n",
            "Building wheels for collected packages: keras-vggface\n",
            "  Building wheel for keras-vggface (setup.py) ... \u001b[?25l\u001b[?25hdone\n",
            "  Created wheel for keras-vggface: filename=keras_vggface-0.6-py3-none-any.whl size=8298 sha256=0976e0a2a8b7fdcdaa109d131c37bd6b8fd4ccb3f268e4dd06bbd0c9eb5f2e38\n",
            "  Stored in directory: /tmp/pip-ephem-wheel-cache-vrrfeul0/wheels/62/cd/e0/3a2d2fe84d014324aed54d420cab52df65a774d9b296c63996\n",
            "Successfully built keras-vggface\n",
            "Installing collected packages: keras-vggface\n",
            "Successfully installed keras-vggface-0.6\n"
          ]
        }
      ],
      "source": [
        "!pip install git+https://github.com/rcmalli/keras-vggface.git"
      ]
    },
    {
      "cell_type": "code",
      "execution_count": null,
      "metadata": {
        "colab": {
          "base_uri": "https://localhost:8080/"
        },
        "id": "wXU4UfJ_JI45",
        "outputId": "2001f3a4-a6b6-401b-8e92-9d6f5b31c2ca"
      },
      "outputs": [
        {
          "name": "stdout",
          "output_type": "stream",
          "text": [
            "Looking in indexes: https://pypi.org/simple, https://us-python.pkg.dev/colab-wheels/public/simple/\n",
            "Collecting Keras-Applications\n",
            "  Downloading Keras_Applications-1.0.8-py3-none-any.whl (50 kB)\n",
            "\u001b[2K     \u001b[90m━━━━━━━━━━━━━━━━━━━━━━━━━━━━━━━━━━━━━━━━\u001b[0m \u001b[32m50.7/50.7 kB\u001b[0m \u001b[31m2.6 MB/s\u001b[0m eta \u001b[36m0:00:00\u001b[0m\n",
            "\u001b[?25hRequirement already satisfied: numpy>=1.9.1 in /usr/local/lib/python3.10/dist-packages (from Keras-Applications) (1.22.4)\n",
            "Requirement already satisfied: h5py in /usr/local/lib/python3.10/dist-packages (from Keras-Applications) (3.8.0)\n",
            "Installing collected packages: Keras-Applications\n",
            "Successfully installed Keras-Applications-1.0.8\n"
          ]
        }
      ],
      "source": [
        "!pip install Keras-Applications"
      ]
    },
    {
      "cell_type": "code",
      "execution_count": null,
      "metadata": {
        "id": "JiNCo2feGD5S"
      },
      "outputs": [],
      "source": [
        "import tensorflow as tf\n",
        "import numpy as np\n",
        "import matplotlib.pyplot as plt\n",
        "from tensorflow import keras\n",
        "from tensorflow.keras import layers\n",
        "from tensorflow.keras.models import Sequential\n",
        "from tensorflow.keras.preprocessing.image import ImageDataGenerator\n",
        "from keras_vggface.vggface import VGGFace\n",
        "from tensorflow.keras import Model\n",
        "from keras.layers import Dense,Flatten,Dropout\n"
      ]
    },
    {
      "cell_type": "code",
      "execution_count": null,
      "metadata": {
        "id": "1arJnFZgIuF7"
      },
      "outputs": [],
      "source": [
        "#create dataset\n",
        "\n",
        "batch_size = 32\n",
        "image_shape = (224,224)\n"
      ]
    },
    {
      "cell_type": "code",
      "execution_count": null,
      "metadata": {
        "colab": {
          "base_uri": "https://localhost:8080/"
        },
        "id": "RCSvc7RaI5yz",
        "outputId": "2983815a-c45f-459d-eeaa-fe17be5cc6bc"
      },
      "outputs": [
        {
          "name": "stdout",
          "output_type": "stream",
          "text": [
            "Found 12724 images belonging to 30 classes.\n"
          ]
        }
      ],
      "source": [
        "train_datagen = ImageDataGenerator(\n",
        "    rescale=1.0 / 255,\n",
        "    rotation_range=20,\n",
        "    width_shift_range=0.2,\n",
        "    height_shift_range=0.2,\n",
        "    shear_range=0.2,\n",
        "    zoom_range=0.2,\n",
        "    horizontal_flip=True,\n",
        "    fill_mode=\"nearest\",\n",
        "    validation_split=0.2\n",
        ")\n",
        "\n",
        "train_dataset = train_datagen.flow_from_directory(\n",
        "    data_dir,\n",
        "    target_size= image_shape,  # Ukuran gambar yang diharapkan\n",
        "    batch_size=batch_size,\n",
        "    class_mode=\"categorical\",\n",
        "    shuffle=True,\n",
        "    seed=123,\n",
        "    subset='training'\n",
        "\n",
        ")\n"
      ]
    },
    {
      "cell_type": "code",
      "execution_count": null,
      "metadata": {
        "colab": {
          "base_uri": "https://localhost:8080/"
        },
        "id": "v_tfkjvq866Y",
        "outputId": "f82dee95-3060-471a-80b1-ba4631f16ebe"
      },
      "outputs": [
        {
          "name": "stdout",
          "output_type": "stream",
          "text": [
            "Found 3165 images belonging to 30 classes.\n"
          ]
        }
      ],
      "source": [
        "val_datagen = ImageDataGenerator(\n",
        "    rescale=1.0 / 255,\n",
        "    validation_split=0.2\n",
        ")\n",
        "\n",
        "val_dataset = val_datagen.flow_from_directory(\n",
        "    data_dir,\n",
        "    target_size= image_shape,  # Ukuran gambar yang diharapkan\n",
        "    batch_size=batch_size,\n",
        "    class_mode=\"categorical\",\n",
        "    shuffle=True,\n",
        "    seed=123,\n",
        "    subset='validation'\n",
        "\n",
        ")\n"
      ]
    },
    {
      "cell_type": "code",
      "execution_count": null,
      "metadata": {
        "colab": {
          "base_uri": "https://localhost:8080/"
        },
        "id": "uDF8RMsF9WDK",
        "outputId": "9a92e985-1f55-4688-b803-e0d0f38a965c"
      },
      "outputs": [
        {
          "data": {
            "text/plain": [
              "['Courteney_Cox',\n",
              " 'David_Schwimmer',\n",
              " 'Jennifer_Aniston',\n",
              " 'Jim_Parsons',\n",
              " 'Johnny_Galeck',\n",
              " 'Kunal_Nayya',\n",
              " 'Lisa_Kudrow',\n",
              " 'Matt_LeBlanc',\n",
              " 'Matthew_Perry',\n",
              " 'Pankaj_Tripathi',\n",
              " 'ROHIT_SHARMA',\n",
              " 'Sachin_Tendulka',\n",
              " 'Simon_Helberg',\n",
              " 'aishwarya_rai',\n",
              " 'angelina_jolie',\n",
              " 'arnold_schwarzenegger',\n",
              " 'bhuvan_bam',\n",
              " 'brad_pitt',\n",
              " 'dhoni',\n",
              " 'hardik_pandya',\n",
              " 'manoj_bajpayee',\n",
              " 'messi',\n",
              " 'mohamed_ali',\n",
              " 'pewdiepie',\n",
              " 'random_person',\n",
              " 'ronaldo',\n",
              " 'scarlett_johansson',\n",
              " 'suresh_raina',\n",
              " 'sylvester_stallone',\n",
              " 'virat_kohli']"
            ]
          },
          "execution_count": 11,
          "metadata": {},
          "output_type": "execute_result"
        }
      ],
      "source": [
        "classes = list(train_dataset.class_indices.keys())\n",
        "classes"
      ]
    },
    {
      "cell_type": "code",
      "execution_count": null,
      "metadata": {
        "colab": {
          "base_uri": "https://localhost:8080/"
        },
        "id": "SbKrY9RI9Yvp",
        "outputId": "e5c91489-0eef-4aad-c339-a40d426a65ca"
      },
      "outputs": [
        {
          "data": {
            "text/plain": [
              "['Courteney_Cox',\n",
              " 'David_Schwimmer',\n",
              " 'Jennifer_Aniston',\n",
              " 'Jim_Parsons',\n",
              " 'Johnny_Galeck',\n",
              " 'Kunal_Nayya',\n",
              " 'Lisa_Kudrow',\n",
              " 'Matt_LeBlanc',\n",
              " 'Matthew_Perry',\n",
              " 'Pankaj_Tripathi',\n",
              " 'ROHIT_SHARMA',\n",
              " 'Sachin_Tendulka',\n",
              " 'Simon_Helberg',\n",
              " 'aishwarya_rai',\n",
              " 'angelina_jolie',\n",
              " 'arnold_schwarzenegger',\n",
              " 'bhuvan_bam',\n",
              " 'brad_pitt',\n",
              " 'dhoni',\n",
              " 'hardik_pandya',\n",
              " 'manoj_bajpayee',\n",
              " 'messi',\n",
              " 'mohamed_ali',\n",
              " 'pewdiepie',\n",
              " 'random_person',\n",
              " 'ronaldo',\n",
              " 'scarlett_johansson',\n",
              " 'suresh_raina',\n",
              " 'sylvester_stallone',\n",
              " 'virat_kohli']"
            ]
          },
          "execution_count": 12,
          "metadata": {},
          "output_type": "execute_result"
        }
      ],
      "source": [
        "classes = list(val_dataset.class_indices.keys())\n",
        "classes"
      ]
    },
    {
      "cell_type": "code",
      "execution_count": null,
      "metadata": {
        "colab": {
          "base_uri": "https://localhost:8080/"
        },
        "id": "MNiUbWM0L99g",
        "outputId": "3453e5f1-ef24-423f-e021-f960fb168b71"
      },
      "outputs": [
        {
          "name": "stdout",
          "output_type": "stream",
          "text": [
            "Downloading data from https://github.com/rcmalli/keras-vggface/releases/download/v2.0/rcmalli_vggface_tf_notop_vgg16.h5\n",
            "58909280/58909280 [==============================] - 3s 0us/step\n",
            "Model: \"vggface_vgg16\"\n",
            "_________________________________________________________________\n",
            " Layer (type)                Output Shape              Param #   \n",
            "=================================================================\n",
            " input_1 (InputLayer)        [(None, 224, 224, 3)]     0         \n",
            "                                                                 \n",
            " conv1_1 (Conv2D)            (None, 224, 224, 64)      1792      \n",
            "                                                                 \n",
            " conv1_2 (Conv2D)            (None, 224, 224, 64)      36928     \n",
            "                                                                 \n",
            " pool1 (MaxPooling2D)        (None, 112, 112, 64)      0         \n",
            "                                                                 \n",
            " conv2_1 (Conv2D)            (None, 112, 112, 128)     73856     \n",
            "                                                                 \n",
            " conv2_2 (Conv2D)            (None, 112, 112, 128)     147584    \n",
            "                                                                 \n",
            " pool2 (MaxPooling2D)        (None, 56, 56, 128)       0         \n",
            "                                                                 \n",
            " conv3_1 (Conv2D)            (None, 56, 56, 256)       295168    \n",
            "                                                                 \n",
            " conv3_2 (Conv2D)            (None, 56, 56, 256)       590080    \n",
            "                                                                 \n",
            " conv3_3 (Conv2D)            (None, 56, 56, 256)       590080    \n",
            "                                                                 \n",
            " pool3 (MaxPooling2D)        (None, 28, 28, 256)       0         \n",
            "                                                                 \n",
            " conv4_1 (Conv2D)            (None, 28, 28, 512)       1180160   \n",
            "                                                                 \n",
            " conv4_2 (Conv2D)            (None, 28, 28, 512)       2359808   \n",
            "                                                                 \n",
            " conv4_3 (Conv2D)            (None, 28, 28, 512)       2359808   \n",
            "                                                                 \n",
            " pool4 (MaxPooling2D)        (None, 14, 14, 512)       0         \n",
            "                                                                 \n",
            " conv5_1 (Conv2D)            (None, 14, 14, 512)       2359808   \n",
            "                                                                 \n",
            " conv5_2 (Conv2D)            (None, 14, 14, 512)       2359808   \n",
            "                                                                 \n",
            " conv5_3 (Conv2D)            (None, 14, 14, 512)       2359808   \n",
            "                                                                 \n",
            " pool5 (MaxPooling2D)        (None, 7, 7, 512)         0         \n",
            "                                                                 \n",
            "=================================================================\n",
            "Total params: 14,714,688\n",
            "Trainable params: 0\n",
            "Non-trainable params: 14,714,688\n",
            "_________________________________________________________________\n"
          ]
        }
      ],
      "source": [
        "vgg_model = VGGFace(include_top=False, input_shape=(224, 224, 3))\n",
        "for layer in vgg_model.layers:\n",
        "  layer.trainable = False\n",
        "vgg_model.summary()\n"
      ]
    },
    {
      "cell_type": "code",
      "execution_count": null,
      "metadata": {
        "id": "29aIQDbCQd0Q"
      },
      "outputs": [],
      "source": [
        "last_layer = vgg_model.get_layer('pool5').output\n",
        "x = Flatten(name='flatten')(last_layer)\n",
        "x = Dropout(0.2)(x)\n",
        "x = Dense(128, activation='relu', name='fc6')(x)\n",
        "x = Dense(64, activation='relu', name='fc7')(x)\n",
        "out = Dense(len(classes), activation='softmax', name='fc8')(x)\n",
        "custom_vgg_model = Model(vgg_model.input, out)"
      ]
    },
    {
      "cell_type": "code",
      "execution_count": null,
      "metadata": {
        "colab": {
          "base_uri": "https://localhost:8080/"
        },
        "id": "wyP245c1NgEZ",
        "outputId": "203b5579-4c04-44fa-eca2-082b090bc202"
      },
      "outputs": [
        {
          "name": "stdout",
          "output_type": "stream",
          "text": [
            "Model: \"model\"\n",
            "_________________________________________________________________\n",
            " Layer (type)                Output Shape              Param #   \n",
            "=================================================================\n",
            " input_1 (InputLayer)        [(None, 224, 224, 3)]     0         \n",
            "                                                                 \n",
            " conv1_1 (Conv2D)            (None, 224, 224, 64)      1792      \n",
            "                                                                 \n",
            " conv1_2 (Conv2D)            (None, 224, 224, 64)      36928     \n",
            "                                                                 \n",
            " pool1 (MaxPooling2D)        (None, 112, 112, 64)      0         \n",
            "                                                                 \n",
            " conv2_1 (Conv2D)            (None, 112, 112, 128)     73856     \n",
            "                                                                 \n",
            " conv2_2 (Conv2D)            (None, 112, 112, 128)     147584    \n",
            "                                                                 \n",
            " pool2 (MaxPooling2D)        (None, 56, 56, 128)       0         \n",
            "                                                                 \n",
            " conv3_1 (Conv2D)            (None, 56, 56, 256)       295168    \n",
            "                                                                 \n",
            " conv3_2 (Conv2D)            (None, 56, 56, 256)       590080    \n",
            "                                                                 \n",
            " conv3_3 (Conv2D)            (None, 56, 56, 256)       590080    \n",
            "                                                                 \n",
            " pool3 (MaxPooling2D)        (None, 28, 28, 256)       0         \n",
            "                                                                 \n",
            " conv4_1 (Conv2D)            (None, 28, 28, 512)       1180160   \n",
            "                                                                 \n",
            " conv4_2 (Conv2D)            (None, 28, 28, 512)       2359808   \n",
            "                                                                 \n",
            " conv4_3 (Conv2D)            (None, 28, 28, 512)       2359808   \n",
            "                                                                 \n",
            " pool4 (MaxPooling2D)        (None, 14, 14, 512)       0         \n",
            "                                                                 \n",
            " conv5_1 (Conv2D)            (None, 14, 14, 512)       2359808   \n",
            "                                                                 \n",
            " conv5_2 (Conv2D)            (None, 14, 14, 512)       2359808   \n",
            "                                                                 \n",
            " conv5_3 (Conv2D)            (None, 14, 14, 512)       2359808   \n",
            "                                                                 \n",
            " pool5 (MaxPooling2D)        (None, 7, 7, 512)         0         \n",
            "                                                                 \n",
            " flatten (Flatten)           (None, 25088)             0         \n",
            "                                                                 \n",
            " dropout (Dropout)           (None, 25088)             0         \n",
            "                                                                 \n",
            " fc6 (Dense)                 (None, 128)               3211392   \n",
            "                                                                 \n",
            " fc7 (Dense)                 (None, 64)                8256      \n",
            "                                                                 \n",
            " fc8 (Dense)                 (None, 30)                1950      \n",
            "                                                                 \n",
            "=================================================================\n",
            "Total params: 17,936,286\n",
            "Trainable params: 3,221,598\n",
            "Non-trainable params: 14,714,688\n",
            "_________________________________________________________________\n"
          ]
        }
      ],
      "source": [
        "custom_vgg_model.summary()"
      ]
    },
    {
      "cell_type": "code",
      "execution_count": null,
      "metadata": {
        "id": "fuMT8FuOPO9b"
      },
      "outputs": [],
      "source": [
        "class myCallback(tf.keras.callbacks.Callback):\n",
        "        # Define the correct function signature for on_epoch_end\n",
        "        def on_epoch_end(self, epoch, logs={}):\n",
        "            if logs.get('accuracy') is not None and logs.get('accuracy') > 0.90:\n",
        "                print(\"\\nReached 90% accuracy so cancelling training!\")\n",
        "\n",
        "                # Stop training once the above condition is met\n",
        "                self.model.stop_training = True\n",
        "callbacks = myCallback()"
      ]
    },
    {
      "cell_type": "code",
      "execution_count": null,
      "metadata": {
        "id": "e8vXpy2DoT4k"
      },
      "outputs": [],
      "source": [
        "weight_decay = 0.001\n",
        "optimizer = tf.keras.optimizers.Adam(learning_rate=0.001, weight_decay=weight_decay)"
      ]
    },
    {
      "cell_type": "code",
      "execution_count": null,
      "metadata": {
        "id": "WDL6tQJ4BDlz"
      },
      "outputs": [],
      "source": [
        "# Set the training parameters\n",
        "custom_vgg_model.compile(loss = 'categorical_crossentropy', optimizer=optimizer, metrics=['accuracy'])"
      ]
    },
    {
      "cell_type": "code",
      "execution_count": null,
      "metadata": {
        "colab": {
          "base_uri": "https://localhost:8080/"
        },
        "id": "UGG5oTp-BK6n",
        "outputId": "af7a1b4b-cf17-41bb-bb61-e4e9ae7e9ad7"
      },
      "outputs": [
        {
          "name": "stdout",
          "output_type": "stream",
          "text": [
            "Epoch 1/30\n",
            "100/100 [==============================] - 71s 586ms/step - loss: 1.8012 - accuracy: 0.5522 - val_loss: 0.5715 - val_accuracy: 0.8675\n",
            "Epoch 2/30\n",
            "100/100 [==============================] - 60s 599ms/step - loss: 0.7382 - accuracy: 0.8106 - val_loss: 0.3326 - val_accuracy: 0.9275\n",
            "Epoch 3/30\n",
            "100/100 [==============================] - 61s 607ms/step - loss: 0.5708 - accuracy: 0.8572 - val_loss: 0.2951 - val_accuracy: 0.9456\n",
            "Epoch 4/30\n",
            "100/100 [==============================] - 58s 582ms/step - loss: 0.5035 - accuracy: 0.8775 - val_loss: 0.2904 - val_accuracy: 0.9463\n",
            "Epoch 5/30\n",
            "100/100 [==============================] - 59s 586ms/step - loss: 0.4786 - accuracy: 0.8806 - val_loss: 0.3011 - val_accuracy: 0.9438\n",
            "Epoch 6/30\n",
            "100/100 [==============================] - 62s 618ms/step - loss: 0.4433 - accuracy: 0.8883 - val_loss: 0.3191 - val_accuracy: 0.9319\n",
            "Epoch 7/30\n",
            "100/100 [==============================] - 58s 585ms/step - loss: 0.4210 - accuracy: 0.8909 - val_loss: 0.3092 - val_accuracy: 0.9362\n",
            "Epoch 8/30\n",
            "100/100 [==============================] - 59s 588ms/step - loss: 0.4056 - accuracy: 0.8934 - val_loss: 0.3613 - val_accuracy: 0.9306\n",
            "Epoch 9/30\n",
            "100/100 [==============================] - 58s 582ms/step - loss: 0.4039 - accuracy: 0.8994 - val_loss: 0.2605 - val_accuracy: 0.9531\n",
            "Epoch 10/30\n",
            "100/100 [==============================] - ETA: 0s - loss: 0.4216 - accuracy: 0.9012\n",
            "Reached 90% accuracy so cancelling training!\n",
            "100/100 [==============================] - 57s 573ms/step - loss: 0.4216 - accuracy: 0.9012 - val_loss: 0.2899 - val_accuracy: 0.9469\n"
          ]
        }
      ],
      "source": [
        "# Train the model\n",
        "history = custom_vgg_model.fit(train_dataset, epochs=30, steps_per_epoch=100, validation_data = val_dataset, verbose = 1, validation_steps=50, callbacks=[callbacks])"
      ]
    },
    {
      "cell_type": "code",
      "execution_count": null,
      "metadata": {
        "colab": {
          "base_uri": "https://localhost:8080/",
          "height": 887
        },
        "id": "MJ4FnuYvh9dk",
        "outputId": "49e7ba3b-3942-49ee-afa1-dbfecd0d03b6"
      },
      "outputs": [
        {
          "data": {
            "image/png": "[encoded data removed]",
            "text/plain": [
              "<Figure size 640x480 with 1 Axes>"
            ]
          },
          "metadata": {},
          "output_type": "display_data"
        },
        {
          "data": {
            "image/png": "[encoded data removed]",
            "text/plain": [
              "<Figure size 640x480 with 1 Axes>"
            ]
          },
          "metadata": {},
          "output_type": "display_data"
        }
      ],
      "source": [
        "acc = history.history['accuracy']\n",
        "val_acc = history.history['val_accuracy']\n",
        "loss = history.history['loss']\n",
        "val_loss = history.history['val_loss']\n",
        "\n",
        "epochs = range(len(acc))\n",
        "\n",
        "plt.plot(epochs, acc, 'r', label='Training accuracy')\n",
        "plt.plot(epochs, val_acc, 'b', label='Validation accuracy')\n",
        "plt.title('Training and validation accuracy')\n",
        "plt.legend()\n",
        "plt.figure()\n",
        "\n",
        "plt.plot(epochs, loss, 'r', label='Training Loss')\n",
        "plt.plot(epochs, val_loss, 'b', label='Validation Loss')\n",
        "plt.title('Training and validation loss')\n",
        "plt.legend()\n",
        "\n",
        "plt.show()"
      ]
    },
    {
      "cell_type": "code",
      "execution_count": null,
      "metadata": {
        "id": "YyVEyd0fcTut"
      },
      "outputs": [],
      "source": [
        "def predict_image(image_path):\n",
        "    img = tf.keras.utils.load_img(image_path, target_size=(224,224,3))\n",
        "    plt.imshow(img)\n",
        "    plt.show()\n",
        "    x = tf.keras.utils.array_to_img(img)\n",
        "    x = np.expand_dims(x, axis=0)\n",
        "    images = np.vstack([x])\n",
        "    pred = custom_vgg_model.predict(images, batch_size=32)\n",
        "    print(image_path)\n",
        "    print(\"Actual: \"+(image_path.split(\"/\")[-1]).split(\"_\")[0])\n",
        "    print(\"Predicted: \"+classes[np.argmax(pred)])\n"
      ]
    },
    {
      "cell_type": "code",
      "execution_count": null,
      "metadata": {
        "colab": {
          "base_uri": "https://localhost:8080/",
          "height": 348
        },
        "id": "H4cX-o3Kcnpn",
        "outputId": "3fc16097-c3a3-4a14-cee8-fbd753d222e9"
      },
      "outputs": [
        {
          "ename": "FileNotFoundError",
          "evalue": "ignored",
          "output_type": "error",
          "traceback": [
            "\u001b[0;31m---------------------------------------------------------------------------\u001b[0m",
            "\u001b[0;31mFileNotFoundError\u001b[0m                         Traceback (most recent call last)",
            "\u001b[0;32m<ipython-input-22-e8261ae8196d>\u001b[0m in \u001b[0;36m<cell line: 1>\u001b[0;34m()\u001b[0m\n\u001b[0;32m----> 1\u001b[0;31m \u001b[0mpredict_image\u001b[0m\u001b[0;34m(\u001b[0m\u001b[0;34m'/content/th (3).jpeg'\u001b[0m\u001b[0;34m)\u001b[0m\u001b[0;34m\u001b[0m\u001b[0;34m\u001b[0m\u001b[0m\n\u001b[0m",
            "\u001b[0;32m<ipython-input-21-d69cbc05664b>\u001b[0m in \u001b[0;36mpredict_image\u001b[0;34m(image_path)\u001b[0m\n\u001b[1;32m      1\u001b[0m \u001b[0;32mdef\u001b[0m \u001b[0mpredict_image\u001b[0m\u001b[0;34m(\u001b[0m\u001b[0mimage_path\u001b[0m\u001b[0;34m)\u001b[0m\u001b[0;34m:\u001b[0m\u001b[0;34m\u001b[0m\u001b[0;34m\u001b[0m\u001b[0m\n\u001b[0;32m----> 2\u001b[0;31m     \u001b[0mimg\u001b[0m \u001b[0;34m=\u001b[0m \u001b[0mtf\u001b[0m\u001b[0;34m.\u001b[0m\u001b[0mkeras\u001b[0m\u001b[0;34m.\u001b[0m\u001b[0mutils\u001b[0m\u001b[0;34m.\u001b[0m\u001b[0mload_img\u001b[0m\u001b[0;34m(\u001b[0m\u001b[0mimage_path\u001b[0m\u001b[0;34m,\u001b[0m \u001b[0mtarget_size\u001b[0m\u001b[0;34m=\u001b[0m\u001b[0;34m(\u001b[0m\u001b[0;36m224\u001b[0m\u001b[0;34m,\u001b[0m\u001b[0;36m224\u001b[0m\u001b[0;34m,\u001b[0m\u001b[0;36m3\u001b[0m\u001b[0;34m)\u001b[0m\u001b[0;34m)\u001b[0m\u001b[0;34m\u001b[0m\u001b[0;34m\u001b[0m\u001b[0m\n\u001b[0m\u001b[1;32m      3\u001b[0m     \u001b[0mplt\u001b[0m\u001b[0;34m.\u001b[0m\u001b[0mimshow\u001b[0m\u001b[0;34m(\u001b[0m\u001b[0mimg\u001b[0m\u001b[0;34m)\u001b[0m\u001b[0;34m\u001b[0m\u001b[0;34m\u001b[0m\u001b[0m\n\u001b[1;32m      4\u001b[0m     \u001b[0mplt\u001b[0m\u001b[0;34m.\u001b[0m\u001b[0mshow\u001b[0m\u001b[0;34m(\u001b[0m\u001b[0;34m)\u001b[0m\u001b[0;34m\u001b[0m\u001b[0;34m\u001b[0m\u001b[0m\n\u001b[1;32m      5\u001b[0m     \u001b[0mx\u001b[0m \u001b[0;34m=\u001b[0m \u001b[0mtf\u001b[0m\u001b[0;34m.\u001b[0m\u001b[0mkeras\u001b[0m\u001b[0;34m.\u001b[0m\u001b[0mutils\u001b[0m\u001b[0;34m.\u001b[0m\u001b[0marray_to_img\u001b[0m\u001b[0;34m(\u001b[0m\u001b[0mimg\u001b[0m\u001b[0;34m)\u001b[0m\u001b[0;34m\u001b[0m\u001b[0;34m\u001b[0m\u001b[0m\n",
            "\u001b[0;32m/usr/local/lib/python3.10/dist-packages/keras/utils/image_utils.py\u001b[0m in \u001b[0;36mload_img\u001b[0;34m(path, grayscale, color_mode, target_size, interpolation, keep_aspect_ratio)\u001b[0m\n\u001b[1;32m    420\u001b[0m         \u001b[0;32mif\u001b[0m \u001b[0misinstance\u001b[0m\u001b[0;34m(\u001b[0m\u001b[0mpath\u001b[0m\u001b[0;34m,\u001b[0m \u001b[0mpathlib\u001b[0m\u001b[0;34m.\u001b[0m\u001b[0mPath\u001b[0m\u001b[0;34m)\u001b[0m\u001b[0;34m:\u001b[0m\u001b[0;34m\u001b[0m\u001b[0;34m\u001b[0m\u001b[0m\n\u001b[1;32m    421\u001b[0m             \u001b[0mpath\u001b[0m \u001b[0;34m=\u001b[0m \u001b[0mstr\u001b[0m\u001b[0;34m(\u001b[0m\u001b[0mpath\u001b[0m\u001b[0;34m.\u001b[0m\u001b[0mresolve\u001b[0m\u001b[0;34m(\u001b[0m\u001b[0;34m)\u001b[0m\u001b[0;34m)\u001b[0m\u001b[0;34m\u001b[0m\u001b[0;34m\u001b[0m\u001b[0m\n\u001b[0;32m--> 422\u001b[0;31m         \u001b[0;32mwith\u001b[0m \u001b[0mopen\u001b[0m\u001b[0;34m(\u001b[0m\u001b[0mpath\u001b[0m\u001b[0;34m,\u001b[0m \u001b[0;34m\"rb\"\u001b[0m\u001b[0;34m)\u001b[0m \u001b[0;32mas\u001b[0m \u001b[0mf\u001b[0m\u001b[0;34m:\u001b[0m\u001b[0;34m\u001b[0m\u001b[0;34m\u001b[0m\u001b[0m\n\u001b[0m\u001b[1;32m    423\u001b[0m             \u001b[0mimg\u001b[0m \u001b[0;34m=\u001b[0m \u001b[0mpil_image\u001b[0m\u001b[0;34m.\u001b[0m\u001b[0mopen\u001b[0m\u001b[0;34m(\u001b[0m\u001b[0mio\u001b[0m\u001b[0;34m.\u001b[0m\u001b[0mBytesIO\u001b[0m\u001b[0;34m(\u001b[0m\u001b[0mf\u001b[0m\u001b[0;34m.\u001b[0m\u001b[0mread\u001b[0m\u001b[0;34m(\u001b[0m\u001b[0;34m)\u001b[0m\u001b[0;34m)\u001b[0m\u001b[0;34m)\u001b[0m\u001b[0;34m\u001b[0m\u001b[0;34m\u001b[0m\u001b[0m\n\u001b[1;32m    424\u001b[0m     \u001b[0;32melse\u001b[0m\u001b[0;34m:\u001b[0m\u001b[0;34m\u001b[0m\u001b[0;34m\u001b[0m\u001b[0m\n",
            "\u001b[0;31mFileNotFoundError\u001b[0m: [Errno 2] No such file or directory: '/content/th (3).jpeg'"
          ]
        }
      ],
      "source": [
        "#predict_image('/content/th (3).jpeg')"
      ]
    },
    {
      "cell_type": "code",
      "execution_count": null,
      "metadata": {
        "id": "TgDSM0JASmLc"
      },
      "outputs": [],
      "source": [
        "custom_vgg_model.save(\"./faceRecog.h5\")\n"
      ]
    }
  ],
  "metadata": {
    "accelerator": "GPU",
    "colab": {
      "gpuType": "T4",
      "provenance": []
    },
    "kernelspec": {
      "display_name": "Python 3",
      "name": "python3"
    },
    "language_info": {
      "name": "python"
    }
  },
  "nbformat": 4,
  "nbformat_minor": 0
}
